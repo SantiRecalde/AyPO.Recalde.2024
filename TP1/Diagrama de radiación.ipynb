{
 "cells": [
  {
   "cell_type": "code",
   "execution_count": 1,
   "metadata": {},
   "outputs": [],
   "source": [
    "import matplotlib.pyplot as plt\n",
    "from mpl_toolkits.mplot3d import Axes3D\n",
    "import numpy as np\n",
    "import Rad_Dia_Equ as rde\n",
    "from matplotlib.animation import FuncAnimation"
   ]
  },
  {
   "cell_type": "code",
   "execution_count": null,
   "metadata": {},
   "outputs": [],
   "source": [
    "fig = plt.figure()\n",
    "ax = fig.add_subplot(111, projection='3d')\n",
    "\n",
    "l=[1/8 , 1/4 , 1/2 , 1 , 3/2 , 7/4 , 2 , 9/4]\n",
    "i = 0\n",
    "\n",
    "x,y,z = rde.calc_Rad_Dia(l[i%8])\n",
    "\n",
    "ax = rde.plot_Rad_Dia(x,y,z,ax,l[i%8])\n",
    "\n",
    "%matplotlib inline\n",
    "plt.show()"
   ]
  },
  {
   "cell_type": "code",
   "execution_count": null,
   "metadata": {},
   "outputs": [],
   "source": [
    "fig = plt.figure()\n",
    "ax = fig.add_subplot(111, projection='3d')\n",
    "\n",
    "#l_values=np.linspace(0.1,2.5,100) #Cuidado de habilitar esta función con el guardado excesivo de imágenes\n",
    "l_values=[1/8 , 1/4 , 1/2 , 1 , 3/2 , 7/4 , 2 , 9/4]\n",
    "ani = rde.ani_Rad_Dia(fig,ax,l_values)\n",
    "\n",
    "%matplotlib qt\n",
    "plt.show()\n"
   ]
  },
  {
   "cell_type": "code",
   "execution_count": null,
   "metadata": {},
   "outputs": [],
   "source": [
    "fig = plt.figure()\n",
    "ax = fig.add_subplot(111)\n",
    "\n",
    "l=[1/8 , 1/4 , 1/2 , 1 , 3/2 , 7/4 , 2 , 9/4]\n",
    "i = 7\n",
    "\n",
    "x,z = rde.calc_Plane_RD(l[i%8])\n",
    "\n",
    "ax=rde.plot_Plane_RD(x,z,ax,l[i%8])\n",
    "\n",
    "%matplotlib inline\n",
    "plt.show()"
   ]
  },
  {
   "cell_type": "code",
   "execution_count": null,
   "metadata": {},
   "outputs": [],
   "source": [
    "fig = plt.figure()\n",
    "ax = fig.add_subplot(111)\n",
    "\n",
    "#l_values=np.linspace(0.1,2.5,100) #Cuidado de habilitar esta función con el guardado excesivo de imágenes\n",
    "l_values=[1/8 , 1/4 , 1/2 , 1 , 3/2 , 7/4 , 2 , 9/4]\n",
    "ani = rde.ani_Plane_RD(fig,ax,l_values)\n",
    "\n",
    "%matplotlib qt\n",
    "plt.show()"
   ]
  },
  {
   "cell_type": "code",
   "execution_count": null,
   "metadata": {},
   "outputs": [],
   "source": [
    "import importlib\n",
    "importlib.reload(rde)"
   ]
  }
 ],
 "metadata": {
  "kernelspec": {
   "display_name": "Python 3",
   "language": "python",
   "name": "python3"
  },
  "language_info": {
   "codemirror_mode": {
    "name": "ipython",
    "version": 3
   },
   "file_extension": ".py",
   "mimetype": "text/x-python",
   "name": "python",
   "nbconvert_exporter": "python",
   "pygments_lexer": "ipython3",
   "version": "3.12.3"
  }
 },
 "nbformat": 4,
 "nbformat_minor": 2
}
