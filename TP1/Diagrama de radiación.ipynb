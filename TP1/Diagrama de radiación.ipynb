{
 "cells": [
  {
   "cell_type": "code",
   "execution_count": 3,
   "metadata": {},
   "outputs": [],
   "source": [
    "import matplotlib.pyplot as plt\n",
    "from mpl_toolkits.mplot3d import Axes3D\n",
    "import numpy as np\n",
    "import Rad_Dia_Equ as rde\n",
    "from matplotlib.animation import FuncAnimation"
   ]
  },
  {
   "cell_type": "code",
   "execution_count": null,
   "metadata": {},
   "outputs": [],
   "source": [
    "fig = plt.figure()\n",
    "ax = fig.add_subplot(111, projection='3d')\n",
    "\n",
    "l=[1/8 , 1/4 , 1/2 , 1 , 3/2 , 7/4 , 2 , 9/4]\n",
    "i = 0\n",
    "\n",
    "x,y,z = rde.calc_Rad_Dia(l[i%8])\n",
    "\n",
    "ax = rde.plot_Rad_Dia(x,y,z,ax,l[i%8])\n",
    "\n",
    "%matplotlib inline\n",
    "plt.show()"
   ]
  },
  {
   "cell_type": "code",
   "execution_count": null,
   "metadata": {},
   "outputs": [],
   "source": [
    "fig = plt.figure()\n",
    "ax = fig.add_subplot(111, projection='3d')\n",
    "\n",
    "#l_values=np.linspace(0.1,2.5,100) #Cuidado de habilitar esta función con el guardado excesivo de imágenes. Modificar librería Rad_Dia_Equ.\n",
    "l_values=[1/8 , 1/4 , 1/2 , 1 , 3/2 , 7/4 , 2 , 9/4]\n",
    "ani = rde.ani_Rad_Dia(fig,ax,l_values)\n",
    "\n",
    "%matplotlib qt\n",
    "plt.show()\n"
   ]
  },
  {
   "cell_type": "code",
   "execution_count": null,
   "metadata": {},
   "outputs": [],
   "source": [
    "fig = plt.figure()\n",
    "ax = fig.add_subplot(111)\n",
    "\n",
    "l=[1/8 , 1/4 , 1/2 , 1 , 3/2 , 7/4 , 2 , 9/4]\n",
    "i = 7\n",
    "\n",
    "x,z = rde.calc_Plane_RD(l[i%8])\n",
    "\n",
    "ax=rde.plot_Plane_RD(x,z,ax,l[i%8])\n",
    "\n",
    "%matplotlib inline\n",
    "plt.show()"
   ]
  },
  {
   "cell_type": "code",
   "execution_count": null,
   "metadata": {},
   "outputs": [],
   "source": [
    "fig = plt.figure()\n",
    "ax = fig.add_subplot(111)\n",
    "\n",
    "#l_values=np.linspace(0.1,2.5,100) #Cuidado de habilitar esta función con el guardado excesivo de imágenes. Modificar librería Rad_Dia_Equ.\n",
    "l_values=[1/8 , 1/4 , 1/2 , 1 , 3/2 , 7/4 , 2 , 9/4]\n",
    "ani = rde.ani_Plane_RD(fig,ax,l_values)\n",
    "\n",
    "%matplotlib qt\n",
    "plt.show()"
   ]
  },
  {
   "cell_type": "code",
   "execution_count": null,
   "metadata": {},
   "outputs": [],
   "source": [
    "import importlib\n",
    "importlib.reload(rde)"
   ]
  },
  {
   "cell_type": "code",
   "execution_count": null,
   "metadata": {},
   "outputs": [],
   "source": [
    "fig = plt.figure()\n",
    "ax = fig.add_subplot(111, projection='3d')\n",
    "\n",
    "l=[1/8 , 1 , 3/2]\n",
    "\n",
    "x0,y0,z0 = rde.calc_Rad_Dia(l[0])\n",
    "x1,y1,z1 = rde.calc_Rad_Dia(l[1])\n",
    "x2,y2,z2 = rde.calc_Rad_Dia(l[2])\n",
    "\n",
    "x0 = x0 - 5     # Desplazamiento de datos para no solapar gráficas\n",
    "x2= x2 + 5      # Desplazamiento de datos para no solapar gráficas\n",
    "\n",
    "# Graficar la superficie para el primer conjunto de datos\n",
    "ax.plot_surface(x0, y0, z0, color='r')\n",
    "\n",
    "# Graficar la superficie para el segundo conjunto de datos\n",
    "ax.plot_surface(x1, y1, z1, color='g')\n",
    "\n",
    "# Graficar la superficie para el tercer conjunto de datos\n",
    "ax.plot_surface(x2, y2, z2, color='orange')\n",
    "\n",
    "# Límites del gráfico\n",
    "ax.set_xlim(-6.5, 6.5)\n",
    "ax.set_ylim(-6.5, 6.5)\n",
    "\n",
    "# Configuración del gráfico\n",
    "ax.set_title('Comparación de gráficos de diagramas de radiación para l = 1/8, 1 y 3/2')\n",
    "ax.set_xlabel('X')\n",
    "ax.set_ylabel('Y')\n",
    "ax.set_zlabel('Z')\n",
    "\n",
    "\n",
    "%matplotlib inline\n",
    "plt.show()"
   ]
  }
 ],
 "metadata": {
  "kernelspec": {
   "display_name": "Python 3",
   "language": "python",
   "name": "python3"
  },
  "language_info": {
   "codemirror_mode": {
    "name": "ipython",
    "version": 3
   },
   "file_extension": ".py",
   "mimetype": "text/x-python",
   "name": "python",
   "nbconvert_exporter": "python",
   "pygments_lexer": "ipython3",
   "version": "3.12.3"
  }
 },
 "nbformat": 4,
 "nbformat_minor": 2
}
